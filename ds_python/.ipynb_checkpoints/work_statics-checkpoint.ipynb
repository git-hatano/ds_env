{
 "cells": [
  {
   "cell_type": "code",
   "execution_count": 17,
   "metadata": {},
   "outputs": [],
   "source": [
    "import numpy as np\n",
    "from scipy import stats\n",
    "import time\n",
    "import matplotlib.pyplot as plt\n",
    "%matplotlib inline"
   ]
  },
  {
   "cell_type": "markdown",
   "metadata": {},
   "source": [
    "記述統計：実際に観察している統計データの分析\n",
    "\n",
    "推測統計：標本データから母集団の特性を推論"
   ]
  },
  {
   "cell_type": "code",
   "execution_count": 2,
   "metadata": {},
   "outputs": [
    {
     "name": "stdout",
     "output_type": "stream",
     "text": [
      "5.684341886080802e-14\n"
     ]
    }
   ],
   "source": [
    "apple_weights = [295, 300, 300, 310, 311]\n",
    "#算術平均\n",
    "apple_w_mean = np.mean(apple_weights)\n",
    "#算術平均からの差の合計は常に０になる\n",
    "deviations = apple_weights - apple_w_mean\n",
    "print(deviations.sum())"
   ]
  },
  {
   "cell_type": "markdown",
   "metadata": {},
   "source": [
    "平均からの差を偏差(deviation)という\n",
    "\n",
    "算術平均は、各値からの差の二乗の合計（平方和）を最小にする値"
   ]
  },
  {
   "cell_type": "code",
   "execution_count": 3,
   "metadata": {},
   "outputs": [
    {
     "name": "stdout",
     "output_type": "stream",
     "text": [
      "1.1450956868476592\n"
     ]
    }
   ],
   "source": [
    "salary_growth = [1.05, 1.1, 1.3]\n",
    "#幾何平均(データの値が比率の場合)\n",
    "salary_growth_mean = stats.gmean(salary_growth)\n",
    "print(salary_growth_mean)"
   ]
  },
  {
   "cell_type": "code",
   "execution_count": 4,
   "metadata": {},
   "outputs": [
    {
     "name": "stdout",
     "output_type": "stream",
     "text": [
      "30.0\n"
     ]
    }
   ],
   "source": [
    "velocities = [20, 60]\n",
    "#調和平均\n",
    "velocities_mean = stats.hmean(velocities)\n",
    "print(velocities_mean)"
   ]
  },
  {
   "cell_type": "code",
   "execution_count": 9,
   "metadata": {},
   "outputs": [
    {
     "name": "stdout",
     "output_type": "stream",
     "text": [
      "mean is 3.315335660760237e-05 (time: 0.00s)\n",
      "median is -8.634907104332238e-05 (time: 0.13s)\n"
     ]
    }
   ],
   "source": [
    "#中央値:medianは外れ値の影響を受けにくい\n",
    "#標準正規分布からランダム値で抽出\n",
    "randoms = np.random.randn(10**7)\n",
    "#計算前の時間(sec)\n",
    "before_mean = time.time()\n",
    "#平均を計算\n",
    "mean = np.mean(randoms)\n",
    "#平均計算後の時間\n",
    "after_mean = time.time()\n",
    "print(\"mean is {} (time:{: .2f}s)\".format(mean, after_mean-before_mean))\n",
    "\n",
    "#計算前の時間(sec)\n",
    "before_median = time.time()\n",
    "#平均を計算\n",
    "median = np.median(randoms)\n",
    "#平均計算後の時間\n",
    "after_median = time.time()\n",
    "print(\"median is {} (time:{: .2f}s)\".format(median, after_median-before_median))\n"
   ]
  },
  {
   "cell_type": "code",
   "execution_count": 10,
   "metadata": {},
   "outputs": [
    {
     "name": "stdout",
     "output_type": "stream",
     "text": [
      "[3]\n",
      "[2]\n"
     ]
    }
   ],
   "source": [
    "#最頻値とその個数\n",
    "mode, count = stats.mode([6,2,4,5,1,3,5,3,4])\n",
    "#2つの最頻値があれば、小さい方を返す\n",
    "print(mode)\n",
    "print(count)"
   ]
  },
  {
   "cell_type": "code",
   "execution_count": 13,
   "metadata": {},
   "outputs": [
    {
     "name": "stdout",
     "output_type": "stream",
     "text": [
      "[[1 2 3 1]]\n",
      "[[1 2 2 1]]\n"
     ]
    }
   ],
   "source": [
    "array = np.array([[1, 5, 3, 2],\n",
    "                  [4, 1, 3, 4],\n",
    "                  [7, 2, 1, 5],\n",
    "                  [5, 2, 4, 1]])\n",
    "mode, count = stats.mode(array, axis=0)\n",
    "print(mode)\n",
    "print(count)"
   ]
  },
  {
   "cell_type": "code",
   "execution_count": 19,
   "metadata": {},
   "outputs": [
    {
     "name": "stdout",
     "output_type": "stream",
     "text": [
      "IQR: 46.0\n",
      "QD: 23.0\n"
     ]
    },
    {
     "data": {
      "image/png": "[encoded data removed]",
      "text/plain": [
       "<Figure size 432x288 with 1 Axes>"
      ]
     },
     "metadata": {
      "needs_background": "light"
     },
     "output_type": "display_data"
    }
   ],
   "source": [
    "#四部位数：データをソートした時に4等分する位置にある値\n",
    "#四部位範囲(IQR)=第3四部位数-第1四部位数\n",
    "#四部位偏差(QD)=IQR/2\n",
    "# data = [33, 35, 36, 39, 43, 49, 51, 54, 54, 56, 62, 64, 64, 69, 70]\n",
    "data = np.random.randint(0, 100, 20)\n",
    "iqr = stats.iqr(data)\n",
    "qd = iqr/2\n",
    "print(\"IQR: {}\".format(iqr))\n",
    "print(\"QD: {}\".format(qd))\n",
    "#boxの高さがIQR\n",
    "plt.boxplot(data)\n",
    "plt.show()"
   ]
  },
  {
   "cell_type": "code",
   "execution_count": null,
   "metadata": {},
   "outputs": [],
   "source": []
  }
 ],
 "metadata": {
  "kernelspec": {
   "display_name": "Python 3",
   "language": "python",
   "name": "python3"
  },
  "language_info": {
   "codemirror_mode": {
    "name": "ipython",
    "version": 3
   },
   "file_extension": ".py",
   "mimetype": "text/x-python",
   "name": "python",
   "nbconvert_exporter": "python",
   "pygments_lexer": "ipython3",
   "version": "3.7.4"
  }
 },
 "nbformat": 4,
 "nbformat_minor": 4
}
