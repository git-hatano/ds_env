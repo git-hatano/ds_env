{
 "cells": [
  {
   "cell_type": "code",
   "execution_count": 71,
   "metadata": {},
   "outputs": [],
   "source": [
    "import numpy as np\n",
    "from scipy import stats\n",
    "import time\n",
    "import pandas as pd\n",
    "import seaborn as sns\n",
    "import matplotlib.pyplot as plt\n",
    "%matplotlib inline"
   ]
  },
  {
   "cell_type": "markdown",
   "metadata": {},
   "source": [
    "記述統計：実際に観察している統計データの分析\n",
    "\n",
    "推測統計：標本データから母集団の特性を推論"
   ]
  },
  {
   "cell_type": "code",
   "execution_count": 2,
   "metadata": {},
   "outputs": [
    {
     "name": "stdout",
     "output_type": "stream",
     "text": [
      "5.684341886080802e-14\n"
     ]
    }
   ],
   "source": [
    "apple_weights = [295, 300, 300, 310, 311]\n",
    "#算術平均\n",
    "apple_w_mean = np.mean(apple_weights)\n",
    "#算術平均からの差の合計は常に０になる\n",
    "deviations = apple_weights - apple_w_mean\n",
    "print(deviations.sum())"
   ]
  },
  {
   "cell_type": "markdown",
   "metadata": {},
   "source": [
    "平均からの差を偏差(deviation)という\n",
    "\n",
    "算術平均は、各値からの差の二乗の合計（平方和）を最小にする値"
   ]
  },
  {
   "cell_type": "code",
   "execution_count": 3,
   "metadata": {},
   "outputs": [
    {
     "name": "stdout",
     "output_type": "stream",
     "text": [
      "1.1450956868476592\n"
     ]
    }
   ],
   "source": [
    "salary_growth = [1.05, 1.1, 1.3]\n",
    "#幾何平均(データの値が比率の場合)\n",
    "salary_growth_mean = stats.gmean(salary_growth)\n",
    "print(salary_growth_mean)"
   ]
  },
  {
   "cell_type": "code",
   "execution_count": 4,
   "metadata": {},
   "outputs": [
    {
     "name": "stdout",
     "output_type": "stream",
     "text": [
      "30.0\n"
     ]
    }
   ],
   "source": [
    "velocities = [20, 60]\n",
    "#調和平均\n",
    "velocities_mean = stats.hmean(velocities)\n",
    "print(velocities_mean)"
   ]
  },
  {
   "cell_type": "code",
   "execution_count": 9,
   "metadata": {},
   "outputs": [
    {
     "name": "stdout",
     "output_type": "stream",
     "text": [
      "mean is 3.315335660760237e-05 (time: 0.00s)\n",
      "median is -8.634907104332238e-05 (time: 0.13s)\n"
     ]
    }
   ],
   "source": [
    "#中央値:medianは外れ値の影響を受けにくい\n",
    "#標準正規分布からランダム値で抽出\n",
    "randoms = np.random.randn(10**7)\n",
    "#計算前の時間(sec)\n",
    "before_mean = time.time()\n",
    "#平均を計算\n",
    "mean = np.mean(randoms)\n",
    "#平均計算後の時間\n",
    "after_mean = time.time()\n",
    "print(\"mean is {} (time:{: .2f}s)\".format(mean, after_mean-before_mean))\n",
    "\n",
    "#計算前の時間(sec)\n",
    "before_median = time.time()\n",
    "#平均を計算\n",
    "median = np.median(randoms)\n",
    "#平均計算後の時間\n",
    "after_median = time.time()\n",
    "print(\"median is {} (time:{: .2f}s)\".format(median, after_median-before_median))\n"
   ]
  },
  {
   "cell_type": "code",
   "execution_count": 10,
   "metadata": {},
   "outputs": [
    {
     "name": "stdout",
     "output_type": "stream",
     "text": [
      "[3]\n",
      "[2]\n"
     ]
    }
   ],
   "source": [
    "#最頻値とその個数\n",
    "mode, count = stats.mode([6,2,4,5,1,3,5,3,4])\n",
    "#2つの最頻値があれば、小さい方を返す\n",
    "print(mode)\n",
    "print(count)"
   ]
  },
  {
   "cell_type": "code",
   "execution_count": 13,
   "metadata": {},
   "outputs": [
    {
     "name": "stdout",
     "output_type": "stream",
     "text": [
      "[[1 2 3 1]]\n",
      "[[1 2 2 1]]\n"
     ]
    }
   ],
   "source": [
    "array = np.array([[1, 5, 3, 2],\n",
    "                  [4, 1, 3, 4],\n",
    "                  [7, 2, 1, 5],\n",
    "                  [5, 2, 4, 1]])\n",
    "mode, count = stats.mode(array, axis=0)\n",
    "print(mode)\n",
    "print(count)"
   ]
  },
  {
   "cell_type": "code",
   "execution_count": 19,
   "metadata": {},
   "outputs": [
    {
     "name": "stdout",
     "output_type": "stream",
     "text": [
      "IQR: 46.0\n",
      "QD: 23.0\n"
     ]
    },
    {
     "data": {
      "image/png": "[encoded data removed]",
      "text/plain": [
       "<Figure size 432x288 with 1 Axes>"
      ]
     },
     "metadata": {
      "needs_background": "light"
     },
     "output_type": "display_data"
    }
   ],
   "source": [
    "#四部位数：データをソートした時に4等分する位置にある値\n",
    "#四部位範囲(IQR)=第3四部位数-第1四部位数\n",
    "#四部位偏差(QD)=IQR/2\n",
    "# data = [33, 35, 36, 39, 43, 49, 51, 54, 54, 56, 62, 64, 64, 69, 70]\n",
    "data = np.random.randint(0, 100, 20)\n",
    "iqr = stats.iqr(data)\n",
    "qd = iqr/2\n",
    "print(\"IQR: {}\".format(iqr))\n",
    "print(\"QD: {}\".format(qd))\n",
    "#boxの高さがIQR\n",
    "plt.boxplot(data)\n",
    "plt.show()"
   ]
  },
  {
   "cell_type": "code",
   "execution_count": 26,
   "metadata": {},
   "outputs": [
    {
     "name": "stdout",
     "output_type": "stream",
     "text": [
      "11.537190082644628\n",
      "11.537190082644628\n",
      "3.3966439440489826\n",
      "3.3966439440489826\n"
     ]
    }
   ],
   "source": [
    "#平均偏差(Mean Deviation: MD)：偏差の絶対値の平均\n",
    "#分散：偏差の２乗の平均\n",
    "#標準偏差：分散の平方根\n",
    "\n",
    "def get_variance(samples):\n",
    "    #平均を計算\n",
    "    mean = np.mean(samples)\n",
    "    #偏差\n",
    "    deviations = samples - mean\n",
    "    #偏差を２乗\n",
    "    square_deviations = deviations * deviations\n",
    "    #偏差の２乗の合計\n",
    "    sum_square_deviations = np.sum(square_deviations)\n",
    "    #偏差の２乗の合計をデータ数で割る：分散\n",
    "    variance = sum_square_deviations/len(samples)\n",
    "    return variance\n",
    "\n",
    "samples = [10, 10, 11, 14, 15, 15, 16, 18, 18, 19, 20]\n",
    "\n",
    "#分散 s**2\n",
    "print(get_variance(samples))\n",
    "print(np.var(samples))\n",
    "#標準偏差 s\n",
    "print(np.sqrt(get_variance(samples)))\n",
    "print(np.std(samples))"
   ]
  },
  {
   "cell_type": "code",
   "execution_count": 22,
   "metadata": {},
   "outputs": [
    {
     "name": "stdout",
     "output_type": "stream",
     "text": [
      "12.690909090909091\n",
      "3.562430222602134\n"
     ]
    }
   ],
   "source": [
    "#scipyでは不偏分散を使っているから上の結果と一致しない\n",
    "#分散\n",
    "print(stats.tvar(samples))\n",
    "#標準偏差\n",
    "print(stats.tstd(samples))"
   ]
  },
  {
   "cell_type": "code",
   "execution_count": 25,
   "metadata": {},
   "outputs": [
    {
     "name": "stdout",
     "output_type": "stream",
     "text": [
      "12.690909090909093\n",
      "3.5624302226021345\n"
     ]
    }
   ],
   "source": [
    "#pandasでも不偏分散が使われる\n",
    "df = pd.DataFrame({\"samples\": samples})\n",
    "print(df[\"samples\"].var())\n",
    "print(df[\"samples\"].std())"
   ]
  },
  {
   "cell_type": "code",
   "execution_count": 28,
   "metadata": {},
   "outputs": [],
   "source": [
    "#不偏分散：母集団の分散を推定するのに使う指標\n",
    "#統計量：母集団の特性値を推測するための標本の値\n",
    "#推定量：推定に使う統計量、標本で求めた\"平均\"は母集団の平均値を推測するための推定量"
   ]
  },
  {
   "cell_type": "code",
   "execution_count": 70,
   "metadata": {},
   "outputs": [
    {
     "name": "stdout",
     "output_type": "stream",
     "text": [
      "population variance is 51.392857142857146\n",
      "sample variance is 0.8888888888888888\n",
      "samples: [20 20 18]\n"
     ]
    }
   ],
   "source": [
    "#母集団\n",
    "population = np.array([1,5,10,11,14,15,15,16,18,18,19,20,25,30])\n",
    "#標本：母集団からランダムに値を抽出\n",
    "samples = np.random.choice(population, size=3)\n",
    "#標本の分散は母集団の分散よりも小さくなる傾向\n",
    "print('population variance is {}'.format(np.var(population)))\n",
    "print('sample variance is {}'.format(np.var(samples)))\n",
    "print('samples: {}'.format(samples))"
   ]
  },
  {
   "cell_type": "code",
   "execution_count": 74,
   "metadata": {},
   "outputs": [
    {
     "data": {
      "text/plain": [
       "(-5.848072953855809, 4.529110902896706, 0.0, 0.4245724135301097)"
      ]
     },
     "execution_count": 74,
     "metadata": {},
     "output_type": "execute_result"
    },
    {
     "data": {
      "image/png": "[encoded data removed]",
      "text/plain": [
       "<Figure size 432x288 with 1 Axes>"
      ]
     },
     "metadata": {
      "needs_background": "light"
     },
     "output_type": "display_data"
    }
   ],
   "source": [
    "sns.distplot(np.random.randn(int(1e4)), bins=30)\n",
    "plt.axis(\"off\")"
   ]
  },
  {
   "cell_type": "code",
   "execution_count": 81,
   "metadata": {},
   "outputs": [
    {
     "name": "stdout",
     "output_type": "stream",
     "text": [
      "population mean is 15.5\n",
      "sample_mean_list mean is 15.51632\n",
      "population variance is 51.392857142857146\n",
      "sample_var_list mean is 40.859320000000004\n"
     ]
    }
   ],
   "source": [
    "#不偏：ある推定量が平均的に母集団のパラメータと一致する\n",
    "#不偏推定量：不偏性のある推定量\n",
    "\n",
    "sample_mean_list = []\n",
    "sample_var_list = []\n",
    "count = 10000\n",
    "for i in range(count):\n",
    "    #標本抽出\n",
    "    samples = np.random.choice(population, size=5)\n",
    "    #標本平均をリストに格納\n",
    "    sample_mean_list.append(np.mean(samples))\n",
    "    #標本分散をリストに格納\n",
    "    sample_var_list.append(np.var(samples))\n",
    "\n",
    "#標本平均を集めた平均(期待値)は、母集団の平均に近づいていく\n",
    "#つまり、標本平均は母集団平均の不偏推定量\n",
    "print(\"population mean is {}\".format(np.mean(population)))\n",
    "print(\"sample_mean_list mean is {}\".format(np.mean(sample_mean_list)))\n",
    "\n",
    "#標本分散を集めた平均は、母集団の分散には近づかない\n",
    "#つまり、標本分散は母集団の不偏推定量にはならない\n",
    "#しかし、標本の不偏分散は母集団分散の不偏推定量になる\n",
    "print(\"population variance is {}\".format(np.var(population)))\n",
    "print(\"sample_var_list mean is {}\".format(np.mean(sample_var_list)))"
   ]
  },
  {
   "cell_type": "code",
   "execution_count": null,
   "metadata": {},
   "outputs": [],
   "source": []
  }
 ],
 "metadata": {
  "kernelspec": {
   "display_name": "Python 3",
   "language": "python",
   "name": "python3"
  },
  "language_info": {
   "codemirror_mode": {
    "name": "ipython",
    "version": 3
   },
   "file_extension": ".py",
   "mimetype": "text/x-python",
   "name": "python",
   "nbconvert_exporter": "python",
   "pygments_lexer": "ipython3",
   "version": "3.7.4"
  }
 },
 "nbformat": 4,
 "nbformat_minor": 4
}
