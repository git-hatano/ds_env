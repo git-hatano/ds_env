{
 "cells": [
  {
   "cell_type": "code",
   "execution_count": 10,
   "metadata": {},
   "outputs": [],
   "source": [
    "import numpy as np\n",
    "from scipy import stats\n",
    "import time\n",
    "import pandas as pd\n",
    "from sklearn.preprocessing import StandardScaler\n",
    "import seaborn as sns\n",
    "import matplotlib.pyplot as plt\n",
    "%matplotlib inline"
   ]
  },
  {
   "cell_type": "code",
   "execution_count": 6,
   "metadata": {},
   "outputs": [
    {
     "name": "stdout",
     "output_type": "stream",
     "text": [
      "68% of the numbers are included within mean±1std\n"
     ]
    }
   ],
   "source": [
    "#0~1の間でランダムに値をサンプリング\n",
    "# randoms = np.random.rand(10000)\n",
    "randoms = np.random.randn(10000)\n",
    "mean = np.mean(randoms)\n",
    "std = np.std(randoms)\n",
    "#平均±標準偏差の範囲にいくつ値があるかをカウント\n",
    "count = 0\n",
    "coef = 1\n",
    "thresh = coef * std\n",
    "for num in randoms:\n",
    "    if (num > mean-thresh) and (num < mean+thresh):\n",
    "        count += 1\n",
    "print(\"{}% of the numbers are included within mean±{}std\".format(int(count/len(randoms)*100), coef))"
   ]
  },
  {
   "cell_type": "code",
   "execution_count": 8,
   "metadata": {},
   "outputs": [
    {
     "data": {
      "text/plain": [
       "<matplotlib.legend.Legend at 0x7f14eda58c10>"
      ]
     },
     "execution_count": 8,
     "metadata": {},
     "output_type": "execute_result"
    },
    {
     "data": {
      "image/png": "[encoded data removed]",
      "text/plain": [
       "<Figure size 432x288 with 1 Axes>"
      ]
     },
     "metadata": {
      "needs_background": "light"
     },
     "output_type": "display_data"
    }
   ],
   "source": [
    "sns.distplot(randoms)\n",
    "plt.vlines(mean, 0, 1, 'r', label='mean')\n",
    "plt.vlines(mean+coef*std, 0, 1, 'b', label='±{}std'.format(coef))\n",
    "plt.vlines(mean-coef*std, 0, 1, 'b')\n",
    "plt.vlines(mean+coef*2*std, 0, 1, 'g', label='±{}std'.format(coef*2))\n",
    "plt.vlines(mean-coef*2*std, 0, 1, 'g')\n",
    "plt.legend()"
   ]
  },
  {
   "cell_type": "code",
   "execution_count": 9,
   "metadata": {},
   "outputs": [
    {
     "name": "stdout",
     "output_type": "stream",
     "text": [
      "standarized data(z): [-1.54799532 -1.10444365 -0.66089199 -0.43911615 -0.35040582 -0.21734032\n",
      "  0.35927685  0.93589402  1.46815602  1.55686636]\n",
      "mean:  0.00\n",
      "std: 1.0\n"
     ]
    }
   ],
   "source": [
    "data = [0, 10, 20, 25, 27, 30, 43, 56, 68, 70]\n",
    "mean = np.mean(data)\n",
    "std = np.std(data)\n",
    "#標準化:異なるデータ群で比較可能になる\n",
    "z = (data - mean) / std\n",
    "print(\"standarized data(z): {}\".format(z))\n",
    "print(\"mean: {: .2f}\".format(np.mean(z)))\n",
    "print(\"std: {}\".format(np.std(z)))"
   ]
  },
  {
   "cell_type": "code",
   "execution_count": 12,
   "metadata": {},
   "outputs": [
    {
     "name": "stdout",
     "output_type": "stream",
     "text": [
      "data shape: (10,)\n",
      "reshaped data shape: (10, 1)\n",
      "[[-1.54799532]\n",
      " [-1.10444365]\n",
      " [-0.66089199]\n",
      " [-0.43911615]\n",
      " [-0.35040582]\n",
      " [-0.21734032]\n",
      " [ 0.35927685]\n",
      " [ 0.93589402]\n",
      " [ 1.46815602]\n",
      " [ 1.55686636]]\n"
     ]
    }
   ],
   "source": [
    "data = np.array([0, 10, 20, 25, 27, 30, 43, 56, 68, 70])\n",
    "print(\"data shape: {}\".format(data.shape))\n",
    "data = np.expand_dims(data, axis=-1)\n",
    "print(\"reshaped data shape: {}\".format(data.shape))\n",
    "#インスタンス生成\n",
    "scaler = StandardScaler()\n",
    "#fit_transformの引数にはrank2のnumpy arrayである必要がある\n",
    "scaled = scaler.fit_transform(data)\n",
    "print(scaled)"
   ]
  },
  {
   "cell_type": "code",
   "execution_count": 13,
   "metadata": {},
   "outputs": [
    {
     "data": {
      "text/plain": [
       "<matplotlib.collections.LineCollection at 0x7f14ec581a50>"
      ]
     },
     "execution_count": 13,
     "metadata": {},
     "output_type": "execute_result"
    },
    {
     "data": {
      "image/png": "[encoded data removed]",
      "text/plain": [
       "<Figure size 432x288 with 1 Axes>"
      ]
     },
     "metadata": {
      "needs_background": "light"
     },
     "output_type": "display_data"
    }
   ],
   "source": [
    "samples = np.random.randn(100000)\n",
    "tscore = samples*10 + 50\n",
    "sns.distplot(tscore)\n",
    "plt.vlines(70, 0, 0.04, 'r')"
   ]
  },
  {
   "cell_type": "code",
   "execution_count": null,
   "metadata": {},
   "outputs": [],
   "source": [
    "#共分散：分散の２変数バージョン\n"
   ]
  }
 ],
 "metadata": {
  "kernelspec": {
   "display_name": "Python 3",
   "language": "python",
   "name": "python3"
  },
  "language_info": {
   "codemirror_mode": {
    "name": "ipython",
    "version": 3
   },
   "file_extension": ".py",
   "mimetype": "text/x-python",
   "name": "python",
   "nbconvert_exporter": "python",
   "pygments_lexer": "ipython3",
   "version": "3.7.4"
  }
 },
 "nbformat": 4,
 "nbformat_minor": 4
}
